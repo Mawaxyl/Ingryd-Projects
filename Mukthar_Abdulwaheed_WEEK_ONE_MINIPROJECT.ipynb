{
  "cells": [
    {
      "cell_type": "markdown",
      "metadata": {
        "id": "view-in-github",
        "colab_type": "text"
      },
      "source": [
        "<a href=\"https://colab.research.google.com/github/Mawaxyl/Ingryd-Projects/blob/main/Mukthar_Abdulwaheed_WEEK_ONE_MINIPROJECT.ipynb\" target=\"_parent\"><img src=\"https://colab.research.google.com/assets/colab-badge.svg\" alt=\"Open In Colab\"/></a>"
      ]
    },
    {
      "cell_type": "markdown",
      "id": "b0677b8c",
      "metadata": {
        "id": "b0677b8c"
      },
      "source": [
        "# WEEKLY MINI PROJECT\n",
        "##### WEEK1: Sentiment Analysis:\n",
        "\n",
        "Write a program that takes user input as text and counts the occurrence of negative words\n",
        "such as \"bad,\" \"not good,\" and \"poor\" in the text.\n",
        "\n",
        "• Calculate the percentage of negative words by dividing the count of negative words\n",
        "by the total number of words in the text. If the percentage of negative words is\n",
        "above a certain threshold (e.g., 5%), mark the feedback as negative; otherwise, mark\n",
        "it as positive.\n",
        "\n",
        "• Also Print in the console the number of occurrences of each negative words\n",
        "respectively"
      ]
    },
    {
      "cell_type": "code",
      "execution_count": null,
      "id": "5383e3c7",
      "metadata": {
        "id": "5383e3c7",
        "outputId": "94f084af-788e-4321-ad0d-6c15fd68725d"
      },
      "outputs": [
        {
          "name": "stdout",
          "output_type": "stream",
          "text": [
            "\n",
            "Enter your text: bad poor\n",
            "\n",
            "Number of negative words: 2\n"
          ]
        }
      ],
      "source": [
        "\"\"\"\n",
        "Write a program that takes user input as text and counts the occurrence of negative words\n",
        "such as \"bad,\" \"not good,\" and \"poor\" in the text.\n",
        "\"\"\"\n",
        "\n",
        "user_input = input(\"\\nEnter your text: \") # Get user input\n",
        "\n",
        "negative_words = [\"bad\", \"not good\", \"poor\"] # List of negative words to check for\n",
        "\n",
        "words = user_input.lower().split() # Split the input text into words\n",
        "\n",
        "negative_word_count = 0 # Initialize counters\n",
        "\n",
        "# To initialize the occurrences of each negative words respectively\n",
        "negative_word_occurrences = {word: 0 for word in negative_words}\n",
        "\n",
        "\n",
        "# Check each word in the text\n",
        "for i in range(len(words)):\n",
        "    if words[i:i+3] == [\"not\", \"good\"]: # For 'not good', we need to check the next two words as well\n",
        "        negative_word_count += 1\n",
        "        negative_word_occurrences[\"not good\"] += 1\n",
        "    elif words[i] in negative_words:\n",
        "        negative_word_count += 1\n",
        "        negative_word_occurrences[words[i]] += 1\n",
        "\n",
        "\n",
        "print(\"\\nNumber of negative words:\", negative_word_count)"
      ]
    },
    {
      "cell_type": "code",
      "execution_count": null,
      "id": "275b13a8",
      "metadata": {
        "id": "275b13a8",
        "outputId": "7447c5c0-e9d2-42b5-d581-ee145d641364"
      },
      "outputs": [
        {
          "name": "stdout",
          "output_type": "stream",
          "text": [
            "\n",
            "Percentage of negative words: 100.0 %\n",
            "\n",
            "Feedback: Negative\n"
          ]
        }
      ],
      "source": [
        "\"\"\"\n",
        "• Calculate the percentage of negative words by dividing the count of negative words\n",
        "by the total number of words in the text. If the percentage of negative words is\n",
        "above a certain threshold (e.g., 5%), mark the feedback as negative; otherwise, mark\n",
        "it as positive.\n",
        "\"\"\"\n",
        "\n",
        "negative_percentage = (negative_word_count / len(words)) * 100\n",
        "\n",
        "# Mark feedback as positive or negative based on the threshold\n",
        "if negative_percentage > 5:\n",
        "    feedback = \"Negative\"\n",
        "else:\n",
        "    feedback = \"Positive\"\n",
        "\n",
        "print(\"\\nPercentage of negative words:\", negative_percentage, \"%\")\n",
        "print(\"\\nFeedback:\", feedback)"
      ]
    },
    {
      "cell_type": "code",
      "execution_count": null,
      "id": "678da03e",
      "metadata": {
        "id": "678da03e",
        "outputId": "16b7f66c-22c5-4791-b2bc-5a48a4e3c639"
      },
      "outputs": [
        {
          "name": "stdout",
          "output_type": "stream",
          "text": [
            "bad: 1\n",
            "not good: 0\n",
            "poor: 1\n"
          ]
        }
      ],
      "source": [
        "\"\"\"\n",
        "• Also Print in the console the number of occurrences of each negative words\n",
        "respectively\n",
        "\"\"\"\n",
        "\n",
        "for word, count in negative_word_occurrences.items():\n",
        "    print(f\"{word}: {count}\")\n",
        ""
      ]
    },
    {
      "cell_type": "markdown",
      "id": "1cbce632",
      "metadata": {
        "id": "1cbce632"
      },
      "source": [
        "Thank for watching👍"
      ]
    }
  ],
  "metadata": {
    "kernelspec": {
      "display_name": "Python 3 (ipykernel)",
      "language": "python",
      "name": "python3"
    },
    "language_info": {
      "codemirror_mode": {
        "name": "ipython",
        "version": 3
      },
      "file_extension": ".py",
      "mimetype": "text/x-python",
      "name": "python",
      "nbconvert_exporter": "python",
      "pygments_lexer": "ipython3",
      "version": "3.11.4"
    },
    "colab": {
      "provenance": [],
      "include_colab_link": true
    }
  },
  "nbformat": 4,
  "nbformat_minor": 5
}