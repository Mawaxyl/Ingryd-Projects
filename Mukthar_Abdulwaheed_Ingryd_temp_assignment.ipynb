{
  "cells": [
    {
      "cell_type": "markdown",
      "metadata": {
        "id": "view-in-github",
        "colab_type": "text"
      },
      "source": [
        "<a href=\"https://colab.research.google.com/github/Mawaxyl/Ingryd-Projects/blob/main/Mukthar_Abdulwaheed_Ingryd_temp_assignment.ipynb\" target=\"_parent\"><img src=\"https://colab.research.google.com/assets/colab-badge.svg\" alt=\"Open In Colab\"/></a>"
      ]
    },
    {
      "cell_type": "markdown",
      "id": "27c541cb-ec9b-455f-aae8-e0b8aa84c4ef",
      "metadata": {
        "id": "27c541cb-ec9b-455f-aae8-e0b8aa84c4ef"
      },
      "source": [
        "#### Create a list of human temperatures\n",
        "###### Find the mean, median, mode, range, variance, standard deviation, and mean deviation"
      ]
    },
    {
      "cell_type": "code",
      "execution_count": 1,
      "id": "d72a0417-396c-49bc-9745-6a8ca57540fc",
      "metadata": {
        "id": "d72a0417-396c-49bc-9745-6a8ca57540fc",
        "outputId": "eb5da730-4484-4522-e81b-fff0c635cf39",
        "colab": {
          "base_uri": "https://localhost:8080/"
        }
      },
      "outputs": [
        {
          "output_type": "stream",
          "name": "stdout",
          "text": [
            "[30, 31, 32, 33, 35, 35, 36, 37, 38, 39, 40, 33, 32, 39, 40, 31, 30, 33, 37, 36]\n"
          ]
        }
      ],
      "source": [
        "# temp_list\n",
        "temp_list = [30, 31, 32, 33, 35, 35, 36, 37, 38, 39, 40, 33, 32, 39, 40, 31, 30, 33, 37, 36]\n",
        "print(temp_list)"
      ]
    },
    {
      "cell_type": "code",
      "execution_count": 2,
      "id": "a1f64bae-8863-460c-a79e-463c045b4478",
      "metadata": {
        "id": "a1f64bae-8863-460c-a79e-463c045b4478",
        "outputId": "3a32a43b-b421-493d-eda0-2e22a45ed844",
        "colab": {
          "base_uri": "https://localhost:8080/"
        }
      },
      "outputs": [
        {
          "output_type": "stream",
          "name": "stdout",
          "text": [
            "The mean of the temperature list is: 34.85\n"
          ]
        }
      ],
      "source": [
        "# mean\n",
        "\n",
        "temp_mean = sum(temp_list)/len(temp_list)\n",
        "print(f'The mean of the temperature list is: {temp_mean:.2f}')"
      ]
    },
    {
      "cell_type": "code",
      "execution_count": 3,
      "id": "85f3146c-f6fb-442a-b3d8-b1e4e35b2c55",
      "metadata": {
        "id": "85f3146c-f6fb-442a-b3d8-b1e4e35b2c55",
        "outputId": "8a3d55c8-a1c9-4bbd-a137-d76e545772e8",
        "colab": {
          "base_uri": "https://localhost:8080/"
        }
      },
      "outputs": [
        {
          "output_type": "stream",
          "name": "stdout",
          "text": [
            "The median of the temperature list is: 35.00\n"
          ]
        }
      ],
      "source": [
        "# median\n",
        "\n",
        "sorted_temp = sorted(temp_list)\n",
        "sorted_temp_len = len(sorted_temp)\n",
        "\n",
        "# getting the median for both even and odd cases\n",
        "if sorted_temp_len % 2 == 1:\n",
        "    median = sorted_temp[sorted_temp_len//2]\n",
        "    print(f'The median of the temperature list is: {median:.2f}')\n",
        "else:\n",
        "    median_1 = sorted_temp[(sorted_temp_len-1) // 2]\n",
        "    median_2 = sorted_temp[sorted_temp_len // 2]\n",
        "    median = (median_1 + median_2) / 2\n",
        "    print(f'The median of the temperature list is: {median:.2f}')\n",
        "\n",
        ""
      ]
    },
    {
      "cell_type": "code",
      "execution_count": 4,
      "id": "6fa9a2f3-e1b0-47bb-ba2c-e43a498ff33b",
      "metadata": {
        "id": "6fa9a2f3-e1b0-47bb-ba2c-e43a498ff33b",
        "outputId": "005bc245-8cf3-4c04-db36-1849acc960fc",
        "colab": {
          "base_uri": "https://localhost:8080/"
        }
      },
      "outputs": [
        {
          "output_type": "stream",
          "name": "stdout",
          "text": [
            "The mode of the temperature list is: [33]\n"
          ]
        }
      ],
      "source": [
        "# mode\n",
        "\n",
        "frequency_dict = {}  # Create a dictionary to store the frequency of each number\n",
        "\n",
        "# Count the frequency of each number\n",
        "for num in temp_list:\n",
        "    if num in frequency_dict:\n",
        "        frequency_dict[num] += 1\n",
        "    else:\n",
        "        frequency_dict[num] = 1\n",
        "\n",
        "# Find the number(s) with the highest frequency (mode)\n",
        "max_frequency = max(frequency_dict.values())\n",
        "mode = [num for num, freq in frequency_dict.items() if freq == max_frequency]\n",
        "\n",
        "print(f'The mode of the temperature list is: {mode}')\n",
        "\n",
        "\n",
        "\n"
      ]
    },
    {
      "cell_type": "code",
      "execution_count": 5,
      "id": "46b1227c-8e37-480f-92d6-40167615e1ab",
      "metadata": {
        "id": "46b1227c-8e37-480f-92d6-40167615e1ab",
        "outputId": "6cc70bbd-a601-4c01-9c9b-f91907a6c496",
        "colab": {
          "base_uri": "https://localhost:8080/"
        }
      },
      "outputs": [
        {
          "output_type": "stream",
          "name": "stdout",
          "text": [
            "The range of the temperature list is: 10\n"
          ]
        }
      ],
      "source": [
        "# range\n",
        "\n",
        "temp_range = max(temp_list) - min(temp_list)\n",
        "print(f'The range of the temperature list is: {temp_range}')"
      ]
    },
    {
      "cell_type": "code",
      "execution_count": 6,
      "id": "2885db96-c3a3-4e42-b28b-a9b419ff1906",
      "metadata": {
        "id": "2885db96-c3a3-4e42-b28b-a9b419ff1906",
        "outputId": "234425e9-e7ce-4f05-a18d-f3120b51c304",
        "colab": {
          "base_uri": "https://localhost:8080/"
        }
      },
      "outputs": [
        {
          "output_type": "stream",
          "name": "stdout",
          "text": [
            "The range of the temperature list is: 10\n"
          ]
        }
      ],
      "source": [
        "# variance\n",
        "\n",
        "# Calculate the squared differences from the mean\n",
        "squared_diff = [(x - temp_mean)**2 for x in temp_list]\n",
        "\n",
        "variance = sum(squared_diff) / len(temp_list)\n",
        "print(f'The range of the temperature list is: {temp_range}')"
      ]
    },
    {
      "cell_type": "code",
      "execution_count": 7,
      "id": "5055518d-fac7-4c3f-a28e-1b90277f8e0b",
      "metadata": {
        "id": "5055518d-fac7-4c3f-a28e-1b90277f8e0b",
        "outputId": "ffa4b74a-2169-4214-f27c-8502792a74f0",
        "colab": {
          "base_uri": "https://localhost:8080/"
        }
      },
      "outputs": [
        {
          "output_type": "stream",
          "name": "stdout",
          "text": [
            "The range of the temperature list is: 3.2599846625406075\n"
          ]
        }
      ],
      "source": [
        "# standard deviation\n",
        "\n",
        "# since standard deviation if the square root of variance\n",
        "s_variance = variance ** 0.5\n",
        "print(f'The range of the temperature list is: {s_variance}')"
      ]
    },
    {
      "cell_type": "code",
      "execution_count": 8,
      "id": "01ea455f-71ae-4143-8a89-79202bfe7d57",
      "metadata": {
        "id": "01ea455f-71ae-4143-8a89-79202bfe7d57",
        "outputId": "d1ce34e2-2ace-40b2-c78d-dbdbee823758",
        "colab": {
          "base_uri": "https://localhost:8080/"
        }
      },
      "outputs": [
        {
          "output_type": "stream",
          "name": "stdout",
          "text": [
            "The range of the temperature list is: 2.8649999999999998\n"
          ]
        }
      ],
      "source": [
        "# mean deviation\n",
        "\n",
        "# Calculate the absolute differences from the mean\n",
        "abs_diff = [abs(x - temp_mean) for x in temp_list]\n",
        "\n",
        "mean_deviation = sum(abs_diff) / sorted_temp_len\n",
        "\n",
        "print(f'The range of the temperature list is: {mean_deviation}')"
      ]
    },
    {
      "cell_type": "code",
      "source": [],
      "metadata": {
        "id": "D3vMgkXkfPni"
      },
      "id": "D3vMgkXkfPni",
      "execution_count": 8,
      "outputs": []
    }
  ],
  "metadata": {
    "kernelspec": {
      "display_name": "Python 3 (ipykernel)",
      "language": "python",
      "name": "python3"
    },
    "language_info": {
      "codemirror_mode": {
        "name": "ipython",
        "version": 3
      },
      "file_extension": ".py",
      "mimetype": "text/x-python",
      "name": "python",
      "nbconvert_exporter": "python",
      "pygments_lexer": "ipython3",
      "version": "3.10.9"
    },
    "colab": {
      "provenance": [],
      "include_colab_link": true
    }
  },
  "nbformat": 4,
  "nbformat_minor": 5
}